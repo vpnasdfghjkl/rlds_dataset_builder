{
 "cells": [
  {
   "cell_type": "code",
   "execution_count": 15,
   "metadata": {},
   "outputs": [
    {
     "name": "stdout",
     "output_type": "stream",
     "text": [
      "camer_a2.png\n"
     ]
    }
   ],
   "source": [
    "import os\n",
    "# cam02_rgb_files = sorted(os.listdir(\"/home/octo/hx/dataset/raw/pure_bg2/1721893655.2009287_Data/camera2\"))\n",
    "# print(cam02_rgb_files)\n",
    "# base_name = os.path.splitext(os.path.basename(\"/home/octo/hx/dataset/raw/pure_bg2/1721893655.2009287_Data/camer_a2\"))[2]\n",
    "base_name = (os.path.basename(\"/home/octo/hx/dataset/raw/pure_bg2/1721893655.2009287_Data/camer_a2.png\"))\n",
    "print(base_name)"
   ]
  }
 ],
 "metadata": {
  "kernelspec": {
   "display_name": "octo0",
   "language": "python",
   "name": "python3"
  },
  "language_info": {
   "codemirror_mode": {
    "name": "ipython",
    "version": 3
   },
   "file_extension": ".py",
   "mimetype": "text/x-python",
   "name": "python",
   "nbconvert_exporter": "python",
   "pygments_lexer": "ipython3",
   "version": "3.10.14"
  }
 },
 "nbformat": 4,
 "nbformat_minor": 2
}
